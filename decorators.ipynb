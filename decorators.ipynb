{
 "cells": [
  {
   "cell_type": "code",
   "execution_count": 1,
   "id": "c9e6f9ba",
   "metadata": {},
   "outputs": [],
   "source": [
    "def decorate_function(function):\n",
    "    \n",
    "    def wrapper_function():\n",
    "        \n",
    "        print('New code before original function')\n",
    "        \n",
    "        function()\n",
    "        \n",
    "        print('New code after original function')\n",
    "        \n",
    "    return wrapper_function"
   ]
  },
  {
   "cell_type": "code",
   "execution_count": 2,
   "id": "36e52716",
   "metadata": {},
   "outputs": [],
   "source": [
    "def function_needs_decorator():\n",
    "    print('I need a decorator')"
   ]
  },
  {
   "cell_type": "code",
   "execution_count": 3,
   "id": "008c4e73",
   "metadata": {},
   "outputs": [],
   "source": [
    "new_function = decorate_function(function_needs_decorator)"
   ]
  },
  {
   "cell_type": "code",
   "execution_count": 4,
   "id": "577d2270",
   "metadata": {},
   "outputs": [
    {
     "name": "stdout",
     "output_type": "stream",
     "text": [
      "New code before original function\n",
      "I need a decorator\n",
      "New code after original function\n"
     ]
    }
   ],
   "source": [
    "new_function()"
   ]
  },
  {
   "cell_type": "code",
   "execution_count": 5,
   "id": "cacfe7cc",
   "metadata": {},
   "outputs": [],
   "source": [
    "@decorate_function\n",
    "def function_needs_decorator():\n",
    "    print('I need a decorator')"
   ]
  },
  {
   "cell_type": "code",
   "execution_count": 6,
   "id": "2fdb0a6e",
   "metadata": {},
   "outputs": [
    {
     "name": "stdout",
     "output_type": "stream",
     "text": [
      "New code before original function\n",
      "I need a decorator\n",
      "New code after original function\n"
     ]
    }
   ],
   "source": [
    "function_needs_decorator()"
   ]
  },
  {
   "cell_type": "code",
   "execution_count": null,
   "id": "d2e54adb",
   "metadata": {},
   "outputs": [],
   "source": []
  }
 ],
 "metadata": {
  "kernelspec": {
   "display_name": "Python 3 (ipykernel)",
   "language": "python",
   "name": "python3"
  },
  "language_info": {
   "codemirror_mode": {
    "name": "ipython",
    "version": 3
   },
   "file_extension": ".py",
   "mimetype": "text/x-python",
   "name": "python",
   "nbconvert_exporter": "python",
   "pygments_lexer": "ipython3",
   "version": "3.9.13"
  }
 },
 "nbformat": 4,
 "nbformat_minor": 5
}
