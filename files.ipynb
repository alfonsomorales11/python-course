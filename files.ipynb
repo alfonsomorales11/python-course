{
 "cells": [
  {
   "cell_type": "code",
   "execution_count": 6,
   "id": "07a275a1",
   "metadata": {},
   "outputs": [
    {
     "name": "stdout",
     "output_type": "stream",
     "text": [
      "Overwriting new.txt\n"
     ]
    }
   ],
   "source": [
    "%%writefile new.txt\n",
    "this is a text file\n",
    "this is the second line"
   ]
  },
  {
   "cell_type": "code",
   "execution_count": 7,
   "id": "98025596",
   "metadata": {},
   "outputs": [],
   "source": [
    "myfile = open('new.txt')"
   ]
  },
  {
   "cell_type": "code",
   "execution_count": 8,
   "id": "cfbfaa24",
   "metadata": {},
   "outputs": [
    {
     "data": {
      "text/plain": [
       "'this is a text file\\nthis is the second line\\n'"
      ]
     },
     "execution_count": 8,
     "metadata": {},
     "output_type": "execute_result"
    }
   ],
   "source": [
    "myfile.read()"
   ]
  },
  {
   "cell_type": "code",
   "execution_count": 13,
   "id": "208392f9",
   "metadata": {},
   "outputs": [
    {
     "data": {
      "text/plain": [
       "0"
      ]
     },
     "execution_count": 13,
     "metadata": {},
     "output_type": "execute_result"
    }
   ],
   "source": [
    "myfile.seek(0)"
   ]
  },
  {
   "cell_type": "code",
   "execution_count": 10,
   "id": "f8cc28b3",
   "metadata": {},
   "outputs": [
    {
     "data": {
      "text/plain": [
       "'this is a text file\\nthis is the second line\\n'"
      ]
     },
     "execution_count": 10,
     "metadata": {},
     "output_type": "execute_result"
    }
   ],
   "source": [
    "myfile.read()"
   ]
  },
  {
   "cell_type": "code",
   "execution_count": 14,
   "id": "d7d49a71",
   "metadata": {},
   "outputs": [
    {
     "data": {
      "text/plain": [
       "['this is a text file\\n', 'this is the second line\\n']"
      ]
     },
     "execution_count": 14,
     "metadata": {},
     "output_type": "execute_result"
    }
   ],
   "source": [
    "# make a list with all the lines\n",
    "myfile.readlines()"
   ]
  },
  {
   "cell_type": "code",
   "execution_count": 15,
   "id": "86c7a1af",
   "metadata": {},
   "outputs": [],
   "source": [
    "myfile.close()"
   ]
  },
  {
   "cell_type": "code",
   "execution_count": 16,
   "id": "32423756",
   "metadata": {},
   "outputs": [
    {
     "data": {
      "text/plain": [
       "'this is a text file\\nthis is the second line\\n'"
      ]
     },
     "execution_count": 16,
     "metadata": {},
     "output_type": "execute_result"
    }
   ],
   "source": [
    "with open('new.txt') as new_file_xd:\n",
    "    nuevo = new_file_xd.read()\n",
    "    \n",
    "nuevo"
   ]
  },
  {
   "cell_type": "code",
   "execution_count": 36,
   "id": "ee91c75a",
   "metadata": {},
   "outputs": [
    {
     "name": "stdout",
     "output_type": "stream",
     "text": [
      "Overwriting document.txt\n"
     ]
    }
   ],
   "source": [
    "%%writefile document.txt\n",
    "esta es la primera linea\n",
    "esta es la segunda linea\n",
    "esta es la tercera linea"
   ]
  },
  {
   "cell_type": "code",
   "execution_count": 37,
   "id": "1984ccf9",
   "metadata": {},
   "outputs": [
    {
     "name": "stdout",
     "output_type": "stream",
     "text": [
      "esta es la primera linea\n",
      "esta es la segunda linea\n",
      "esta es la tercera linea\n",
      "esta es la cuarta linea\n"
     ]
    }
   ],
   "source": [
    "with open('document.txt', mode='a') as file:\n",
    "    file.write('esta es la cuarta linea')\n",
    "    \n",
    "with open('document.txt', mode='r') as file:\n",
    "    print(file.read())"
   ]
  }
 ],
 "metadata": {
  "kernelspec": {
   "display_name": "Python 3 (ipykernel)",
   "language": "python",
   "name": "python3"
  },
  "language_info": {
   "codemirror_mode": {
    "name": "ipython",
    "version": 3
   },
   "file_extension": ".py",
   "mimetype": "text/x-python",
   "name": "python",
   "nbconvert_exporter": "python",
   "pygments_lexer": "ipython3",
   "version": "3.9.13"
  }
 },
 "nbformat": 4,
 "nbformat_minor": 5
}
