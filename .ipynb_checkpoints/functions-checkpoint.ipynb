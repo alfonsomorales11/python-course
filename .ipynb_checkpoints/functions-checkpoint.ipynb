{
 "cells": [
  {
   "cell_type": "code",
   "execution_count": 11,
   "id": "ce9c0f2c",
   "metadata": {},
   "outputs": [],
   "source": [
    "def myfunction(mylist):\n",
    "    flag = False\n",
    "    list1 = []\n",
    "    for i in mylist:\n",
    "        if i % 2 == 0:\n",
    "            flag = True\n",
    "            list1.append(i)\n",
    "    print(list1)\n",
    "    return flag        "
   ]
  },
  {
   "cell_type": "code",
   "execution_count": 13,
   "id": "d46fb2c6",
   "metadata": {},
   "outputs": [
    {
     "name": "stdout",
     "output_type": "stream",
     "text": [
      "[2, 12, 20]\n"
     ]
    },
    {
     "data": {
      "text/plain": [
       "True"
      ]
     },
     "execution_count": 13,
     "metadata": {},
     "output_type": "execute_result"
    }
   ],
   "source": [
    "lista = [1,3,5,7,17,13,2,12,20]\n",
    "myfunction(lista)"
   ]
  },
  {
   "cell_type": "code",
   "execution_count": 76,
   "id": "376c29ad",
   "metadata": {},
   "outputs": [],
   "source": [
    "hours = [('alfonso',100),('pancho',1),('cachis',50),('nina',400),('faith',30),('pachimix',9999)]"
   ]
  },
  {
   "cell_type": "code",
   "execution_count": 77,
   "id": "7cefa84a",
   "metadata": {},
   "outputs": [],
   "source": [
    "def max_hours(lista):\n",
    "    horas = []\n",
    "    index = 0\n",
    "    for a,b in lista:\n",
    "        horas.append(b)\n",
    "    horas.sort()\n",
    "    \n",
    "    for a,b in lista:\n",
    "        if (b == horas[-1]):\n",
    "            return (a,b)"
   ]
  },
  {
   "cell_type": "code",
   "execution_count": 78,
   "id": "2e6ae7a1",
   "metadata": {},
   "outputs": [
    {
     "data": {
      "text/plain": [
       "('pachimix', 9999)"
      ]
     },
     "execution_count": 78,
     "metadata": {},
     "output_type": "execute_result"
    }
   ],
   "source": [
    "max_hours(hours)"
   ]
  },
  {
   "cell_type": "code",
   "execution_count": 136,
   "id": "b5ac696d",
   "metadata": {},
   "outputs": [],
   "source": [
    "from random import shuffle\n",
    "\n",
    "def ball_game(guess):\n",
    "    lista = [1,0,0]\n",
    "    shuffle(lista)\n",
    "    if (lista[guess - 1]):\n",
    "        print('Ganastes')\n",
    "    else:\n",
    "        print('Perdistes')\n",
    "    \n",
    "    print(lista)\n",
    "    \n",
    "    for i in range(len(lista)):\n",
    "        if lista[i] == 1:\n",
    "            print('Bola en vaso {}\\n'.format(i+1))"
   ]
  },
  {
   "cell_type": "code",
   "execution_count": 140,
   "id": "7c5ea45a",
   "metadata": {},
   "outputs": [
    {
     "name": "stdout",
     "output_type": "stream",
     "text": [
      "Ganastes\n",
      "[0, 0, 1]\n",
      "Bola en vaso 3\n",
      "\n",
      "Ganastes\n",
      "[0, 0, 1]\n",
      "Bola en vaso 3\n",
      "\n",
      "Perdistes\n",
      "[1, 0, 0]\n",
      "Bola en vaso 1\n",
      "\n",
      "Perdistes\n",
      "[1, 0, 0]\n",
      "Bola en vaso 1\n",
      "\n",
      "Ganastes\n",
      "[0, 0, 1]\n",
      "Bola en vaso 3\n",
      "\n"
     ]
    }
   ],
   "source": [
    "for i in range(5):\n",
    "    ball_game(3)\n"
   ]
  },
  {
   "cell_type": "code",
   "execution_count": 141,
   "id": "0ec50f92",
   "metadata": {},
   "outputs": [],
   "source": [
    "# Pass any number of arguments to a function\n",
    "def myfunction(*args):\n",
    "    print(args)"
   ]
  },
  {
   "cell_type": "code",
   "execution_count": 142,
   "id": "94e6a147",
   "metadata": {},
   "outputs": [
    {
     "name": "stdout",
     "output_type": "stream",
     "text": [
      "(1, 2, 3, 4, 5, 6, 7)\n"
     ]
    }
   ],
   "source": [
    "myfunction(1,2,3,4,5,6,7)"
   ]
  },
  {
   "cell_type": "code",
   "execution_count": 143,
   "id": "8ba21aa3",
   "metadata": {},
   "outputs": [],
   "source": [
    "def funsion(**kwargs):\n",
    "    if 'fruit' in kwargs:\n",
    "        print(\"My favorite fruit is {}\".format(kwargs['fruit']))\n",
    "    else:\n",
    "        print(\"No fruits\")"
   ]
  },
  {
   "cell_type": "code",
   "execution_count": 147,
   "id": "c5d8a495",
   "metadata": {},
   "outputs": [
    {
     "name": "stdout",
     "output_type": "stream",
     "text": [
      "My favorite fruit is apple\n"
     ]
    }
   ],
   "source": [
    "funsion(fruit='apple',color='green',number=100)"
   ]
  },
  {
   "cell_type": "code",
   "execution_count": 149,
   "id": "a12089fa",
   "metadata": {},
   "outputs": [],
   "source": [
    "def func(*args,**kwargs):\n",
    "    print (args)\n",
    "    print (kwargs)\n",
    "    \n",
    "    print(\"I want {} {}\".format(args[0],kwargs['animals']))"
   ]
  },
  {
   "cell_type": "code",
   "execution_count": 150,
   "id": "dd22b156",
   "metadata": {},
   "outputs": [
    {
     "name": "stdout",
     "output_type": "stream",
     "text": [
      "(100, 200, 300)\n",
      "{'food': 'pizza', 'color': 'blue', 'animals': 'cats'}\n",
      "I want 100 cats\n"
     ]
    }
   ],
   "source": [
    "func(100,200,300,food=\"pizza\",color=\"blue\",animals=\"cats\")"
   ]
  },
  {
   "cell_type": "code",
   "execution_count": 166,
   "id": "423d03e7",
   "metadata": {},
   "outputs": [],
   "source": [
    "def functionxd(palabra):\n",
    "    a = ''\n",
    "    index = 0\n",
    "    for letter in palabra:\n",
    "        if index % 2 == 0:\n",
    "            a = a + letter.upper()\n",
    "        \n",
    "        else:\n",
    "            a = a + letter.lower()\n",
    "        index+=1\n",
    "    return a"
   ]
  },
  {
   "cell_type": "code",
   "execution_count": 168,
   "id": "37c4c8e8",
   "metadata": {},
   "outputs": [
    {
     "name": "stdout",
     "output_type": "stream",
     "text": [
      "AlFoNsO\n"
     ]
    }
   ],
   "source": [
    "palabras = functionxd('alfonso')\n",
    "print(palabras)"
   ]
  },
  {
   "cell_type": "code",
   "execution_count": 184,
   "id": "590a8328",
   "metadata": {},
   "outputs": [],
   "source": [
    "# Map and filter\n",
    "def mensaje(text):\n",
    "    return ('Hola ' + text)"
   ]
  },
  {
   "cell_type": "code",
   "execution_count": 185,
   "id": "bd3b899f",
   "metadata": {},
   "outputs": [],
   "source": [
    "a = mensaje('Alfonso')"
   ]
  },
  {
   "cell_type": "code",
   "execution_count": 187,
   "id": "751676c4",
   "metadata": {},
   "outputs": [
    {
     "data": {
      "text/plain": [
       "['Hola Pachi', 'Hola Paca']"
      ]
     },
     "execution_count": 187,
     "metadata": {},
     "output_type": "execute_result"
    }
   ],
   "source": [
    "texto = ['Pachi','Paca']\n",
    "list(map(mensaje,texto))"
   ]
  },
  {
   "cell_type": "code",
   "execution_count": 190,
   "id": "760b7c4b",
   "metadata": {},
   "outputs": [],
   "source": [
    "def len_words(word):\n",
    "    return len(word) > 3"
   ]
  },
  {
   "cell_type": "code",
   "execution_count": 194,
   "id": "1781b226",
   "metadata": {},
   "outputs": [],
   "source": [
    "mywords = ['aaa','bbb','cccc','a','c','aa','dddddddd','a','oaoaoaoaao','1234']"
   ]
  },
  {
   "cell_type": "code",
   "execution_count": 195,
   "id": "5e9b33d4",
   "metadata": {},
   "outputs": [
    {
     "data": {
      "text/plain": [
       "['cccc', 'dddddddd', 'oaoaoaoaao', '1234']"
      ]
     },
     "execution_count": 195,
     "metadata": {},
     "output_type": "execute_result"
    }
   ],
   "source": [
    "list(filter(len_words,mywords))"
   ]
  },
  {
   "cell_type": "code",
   "execution_count": 196,
   "id": "f42b05e7",
   "metadata": {},
   "outputs": [
    {
     "data": {
      "text/plain": [
       "100"
      ]
     },
     "execution_count": 196,
     "metadata": {},
     "output_type": "execute_result"
    }
   ],
   "source": [
    "# Lambda functions\n",
    "def cuadrado(num):\n",
    "    return num**2\n",
    "\n",
    "cuadrado(10)"
   ]
  },
  {
   "cell_type": "code",
   "execution_count": 197,
   "id": "b5b21149",
   "metadata": {},
   "outputs": [
    {
     "data": {
      "text/plain": [
       "121"
      ]
     },
     "execution_count": 197,
     "metadata": {},
     "output_type": "execute_result"
    }
   ],
   "source": [
    "square = lambda num: num**2\n",
    "square(11)"
   ]
  },
  {
   "cell_type": "code",
   "execution_count": 200,
   "id": "6e9f85a0",
   "metadata": {},
   "outputs": [
    {
     "data": {
      "text/plain": [
       "[2, 3, 4, 5, 6, 7]"
      ]
     },
     "execution_count": 200,
     "metadata": {},
     "output_type": "execute_result"
    }
   ],
   "source": [
    "numeros = [1,2,3,4,5,6]\n",
    "list(map(lambda num:num+1,numeros))"
   ]
  },
  {
   "cell_type": "code",
   "execution_count": 202,
   "id": "0564fa5c",
   "metadata": {},
   "outputs": [
    {
     "data": {
      "text/plain": [
       "['aaa', 'edededede']"
      ]
     },
     "execution_count": 202,
     "metadata": {},
     "output_type": "execute_result"
    }
   ],
   "source": [
    "palabras=['a','aa','aaa','c','edededede']\n",
    "list(filter(lambda word:len(word) > 2, palabras))"
   ]
  },
  {
   "cell_type": "code",
   "execution_count": null,
   "id": "92b3b6b5",
   "metadata": {},
   "outputs": [],
   "source": []
  },
  {
   "cell_type": "code",
   "execution_count": null,
   "id": "b651d8fc",
   "metadata": {},
   "outputs": [],
   "source": []
  }
 ],
 "metadata": {
  "kernelspec": {
   "display_name": "Python 3 (ipykernel)",
   "language": "python",
   "name": "python3"
  },
  "language_info": {
   "codemirror_mode": {
    "name": "ipython",
    "version": 3
   },
   "file_extension": ".py",
   "mimetype": "text/x-python",
   "name": "python",
   "nbconvert_exporter": "python",
   "pygments_lexer": "ipython3",
   "version": "3.9.13"
  }
 },
 "nbformat": 4,
 "nbformat_minor": 5
}
