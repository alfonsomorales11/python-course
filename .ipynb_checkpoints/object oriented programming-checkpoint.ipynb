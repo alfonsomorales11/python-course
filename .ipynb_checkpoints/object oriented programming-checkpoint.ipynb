{
 "cells": [
  {
   "cell_type": "code",
   "execution_count": 23,
   "id": "1f178b52",
   "metadata": {},
   "outputs": [],
   "source": [
    "class Object():\n",
    "    def __init__(self,age,name):\n",
    "        self.age = age\n",
    "        self.name = name\n",
    "        \n",
    "    def message(self,number):\n",
    "        print(\"my name is {} and number is {}\".format(self.name,number))\n",
    "        \n"
   ]
  },
  {
   "cell_type": "code",
   "execution_count": 24,
   "id": "e03e3771",
   "metadata": {},
   "outputs": [],
   "source": [
    "my_object = Object(age=26,name='alfonso')"
   ]
  },
  {
   "cell_type": "code",
   "execution_count": 25,
   "id": "4060b0ec",
   "metadata": {},
   "outputs": [
    {
     "name": "stdout",
     "output_type": "stream",
     "text": [
      "my name is alfonso and number is 100\n"
     ]
    }
   ],
   "source": [
    "my_object.message(100)"
   ]
  },
  {
   "cell_type": "code",
   "execution_count": 64,
   "id": "706ab891",
   "metadata": {},
   "outputs": [],
   "source": [
    "from math import pi\n",
    "class Circle():\n",
    "    def __init__(self,radius):\n",
    "        self.radius = radius\n",
    "        self.perimetro = pi * radius * 2\n",
    "        self.area = pi * radius**2\n",
    "        \n",
    "    def getInfo(self):\n",
    "        print('Radius: {} , Perimeter: {}, Area: {}'.format(self.radius,self.perimetro,self.area))"
   ]
  },
  {
   "cell_type": "code",
   "execution_count": 65,
   "id": "392cefff",
   "metadata": {},
   "outputs": [],
   "source": [
    "myCircle = Circle(radius=30)"
   ]
  },
  {
   "cell_type": "code",
   "execution_count": 66,
   "id": "07066d6a",
   "metadata": {},
   "outputs": [
    {
     "name": "stdout",
     "output_type": "stream",
     "text": [
      "Radius: 30 , Perimeter: 188.49555921538757, Area: 2827.4333882308138\n"
     ]
    }
   ],
   "source": [
    "myCircle.getInfo()"
   ]
  },
  {
   "cell_type": "code",
   "execution_count": 67,
   "id": "3f8d7681",
   "metadata": {},
   "outputs": [],
   "source": [
    "class Animal():\n",
    "    def __init__(self):\n",
    "        print('Animal created')\n",
    "    \n",
    "    def who_am_i(self):\n",
    "        print('I am an animal')\n",
    "        \n",
    "    def eat(self):\n",
    "        print('I am eating')"
   ]
  },
  {
   "cell_type": "code",
   "execution_count": 76,
   "id": "67265eab",
   "metadata": {},
   "outputs": [],
   "source": [
    "class Cat(Animal):\n",
    "    def __init__(self):\n",
    "        Animal.__init__(self)\n",
    "        print('Cat created')\n",
    "        \n",
    "    def who_am_i(self):\n",
    "        print('I am a cat')\n",
    "        \n",
    "    def miau(self):\n",
    "        print('Miau xd')"
   ]
  },
  {
   "cell_type": "code",
   "execution_count": 77,
   "id": "bba8a492",
   "metadata": {},
   "outputs": [
    {
     "name": "stdout",
     "output_type": "stream",
     "text": [
      "Animal created\n",
      "Cat created\n"
     ]
    }
   ],
   "source": [
    "myCat = Cat()"
   ]
  },
  {
   "cell_type": "code",
   "execution_count": 78,
   "id": "e5ee50b2",
   "metadata": {},
   "outputs": [
    {
     "name": "stdout",
     "output_type": "stream",
     "text": [
      "I am eating\n"
     ]
    }
   ],
   "source": [
    "myCat.eat()"
   ]
  },
  {
   "cell_type": "code",
   "execution_count": 79,
   "id": "328d2b3a",
   "metadata": {},
   "outputs": [
    {
     "name": "stdout",
     "output_type": "stream",
     "text": [
      "I am a cat\n"
     ]
    }
   ],
   "source": [
    "myCat.who_am_i()"
   ]
  },
  {
   "cell_type": "code",
   "execution_count": 80,
   "id": "27050575",
   "metadata": {},
   "outputs": [
    {
     "name": "stdout",
     "output_type": "stream",
     "text": [
      "Miau xd\n"
     ]
    }
   ],
   "source": [
    "myCat.miau()"
   ]
  },
  {
   "cell_type": "code",
   "execution_count": 81,
   "id": "450436a5",
   "metadata": {},
   "outputs": [],
   "source": [
    "class Cat2 ():\n",
    "    def __init__(self,name):\n",
    "        self.name = name\n",
    "        \n",
    "    def speak(self):\n",
    "        return self.name + ' says miau xD'"
   ]
  },
  {
   "cell_type": "code",
   "execution_count": 82,
   "id": "7a49fc6e",
   "metadata": {},
   "outputs": [],
   "source": [
    "luneta = Cat2('luneta')"
   ]
  },
  {
   "cell_type": "code",
   "execution_count": 84,
   "id": "b2037242",
   "metadata": {},
   "outputs": [
    {
     "name": "stdout",
     "output_type": "stream",
     "text": [
      "luneta says miau xD\n"
     ]
    }
   ],
   "source": [
    "print(luneta.speak())"
   ]
  },
  {
   "cell_type": "code",
   "execution_count": 85,
   "id": "6a73a3ce",
   "metadata": {},
   "outputs": [],
   "source": [
    "class Animal():\n",
    "    def __init__(self,name):\n",
    "        self.name = name\n",
    "        \n",
    "    def speak(self):\n",
    "        raise NotImplementedError('Must implement this method')"
   ]
  },
  {
   "cell_type": "code",
   "execution_count": 95,
   "id": "13018e5c",
   "metadata": {},
   "outputs": [],
   "source": [
    "class Fish(Animal):\n",
    "        \n",
    "    def speak(self):\n",
    "        return self.name + ' says i am fish xd'"
   ]
  },
  {
   "cell_type": "code",
   "execution_count": 96,
   "id": "2aa3eb51",
   "metadata": {},
   "outputs": [],
   "source": [
    "fish = Fish('pachi')"
   ]
  },
  {
   "cell_type": "code",
   "execution_count": 97,
   "id": "bae15155",
   "metadata": {},
   "outputs": [
    {
     "data": {
      "text/plain": [
       "'pachi says i am fish xd'"
      ]
     },
     "execution_count": 97,
     "metadata": {},
     "output_type": "execute_result"
    }
   ],
   "source": [
    "fish.speak()"
   ]
  },
  {
   "cell_type": "code",
   "execution_count": 38,
   "id": "d87377c5",
   "metadata": {},
   "outputs": [],
   "source": [
    "# Special methods\n",
    "class Book():\n",
    "    \n",
    "    def __init__(self,title,author,pages):\n",
    "        self.title = title\n",
    "        self.author = author\n",
    "        self.pages = pages\n",
    "        \n",
    "    def __str__(self):\n",
    "        return f\"{self.title} by {self.author}\"\n",
    "    \n",
    "    def __len__(self):\n",
    "        return self.pages\n",
    "    \n",
    "    def __del__(self):\n",
    "        print('{} was deleted'.format(self.title))"
   ]
  },
  {
   "cell_type": "code",
   "execution_count": 39,
   "id": "03cf23bf",
   "metadata": {},
   "outputs": [],
   "source": [
    "book = Book('Game of thrones','George R R Martin',1000)"
   ]
  },
  {
   "cell_type": "code",
   "execution_count": 40,
   "id": "7a64540d",
   "metadata": {},
   "outputs": [
    {
     "name": "stdout",
     "output_type": "stream",
     "text": [
      "Game of thrones by George R R Martin\n"
     ]
    }
   ],
   "source": [
    "print(book)"
   ]
  },
  {
   "cell_type": "code",
   "execution_count": 41,
   "id": "e28ddf9c",
   "metadata": {},
   "outputs": [
    {
     "data": {
      "text/plain": [
       "1000"
      ]
     },
     "execution_count": 41,
     "metadata": {},
     "output_type": "execute_result"
    }
   ],
   "source": [
    "len(book)"
   ]
  },
  {
   "cell_type": "code",
   "execution_count": 37,
   "id": "ce00e246",
   "metadata": {},
   "outputs": [
    {
     "name": "stdout",
     "output_type": "stream",
     "text": [
      "Game of thrones was deleted\n"
     ]
    }
   ],
   "source": [
    "del book"
   ]
  },
  {
   "cell_type": "code",
   "execution_count": null,
   "id": "91f6eb7c",
   "metadata": {},
   "outputs": [],
   "source": []
  },
  {
   "cell_type": "code",
   "execution_count": null,
   "id": "1938c6c1",
   "metadata": {},
   "outputs": [],
   "source": []
  },
  {
   "cell_type": "code",
   "execution_count": null,
   "id": "bdd2a392",
   "metadata": {},
   "outputs": [],
   "source": []
  },
  {
   "cell_type": "code",
   "execution_count": null,
   "id": "9cdab4d4",
   "metadata": {},
   "outputs": [],
   "source": []
  },
  {
   "cell_type": "code",
   "execution_count": null,
   "id": "e672f093",
   "metadata": {},
   "outputs": [],
   "source": []
  }
 ],
 "metadata": {
  "kernelspec": {
   "display_name": "Python 3 (ipykernel)",
   "language": "python",
   "name": "python3"
  },
  "language_info": {
   "codemirror_mode": {
    "name": "ipython",
    "version": 3
   },
   "file_extension": ".py",
   "mimetype": "text/x-python",
   "name": "python",
   "nbconvert_exporter": "python",
   "pygments_lexer": "ipython3",
   "version": "3.9.13"
  }
 },
 "nbformat": 4,
 "nbformat_minor": 5
}
