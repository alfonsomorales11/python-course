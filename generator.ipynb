{
 "cells": [
  {
   "cell_type": "code",
   "execution_count": 5,
   "id": "5b713fe1",
   "metadata": {},
   "outputs": [],
   "source": [
    "def create_cube(num):\n",
    "    a = []\n",
    "    for i in range (num):\n",
    "        a.append(i**3)\n",
    "        \n",
    "    return a"
   ]
  },
  {
   "cell_type": "code",
   "execution_count": 6,
   "id": "a42c2a0d",
   "metadata": {},
   "outputs": [
    {
     "data": {
      "text/plain": [
       "[0, 1, 8, 27, 64, 125, 216, 343, 512, 729]"
      ]
     },
     "execution_count": 6,
     "metadata": {},
     "output_type": "execute_result"
    }
   ],
   "source": [
    "create_cube(10)"
   ]
  },
  {
   "cell_type": "code",
   "execution_count": 7,
   "id": "f1eead0e",
   "metadata": {},
   "outputs": [],
   "source": [
    "def cube_generator(num):\n",
    "    for i in range(num):\n",
    "        yield i**3"
   ]
  },
  {
   "cell_type": "code",
   "execution_count": 10,
   "id": "3c5e1aa4",
   "metadata": {},
   "outputs": [
    {
     "data": {
      "text/plain": [
       "[0, 1, 8, 27, 64, 125, 216, 343, 512, 729]"
      ]
     },
     "execution_count": 10,
     "metadata": {},
     "output_type": "execute_result"
    }
   ],
   "source": [
    "list(cube_generator(10))"
   ]
  },
  {
   "cell_type": "code",
   "execution_count": 18,
   "id": "5d719817",
   "metadata": {},
   "outputs": [],
   "source": [
    "def fibonacci_generator(num):\n",
    "    a = [1,1]\n",
    "    for i in range(num):\n",
    "        if ( i >=2 ):\n",
    "            a.append(a[i-1] + a [i-2])\n",
    "            \n",
    "    return a"
   ]
  },
  {
   "cell_type": "code",
   "execution_count": 20,
   "id": "9c872c3d",
   "metadata": {},
   "outputs": [
    {
     "data": {
      "text/plain": [
       "[1, 1, 2, 3, 5, 8, 13, 21, 34, 55]"
      ]
     },
     "execution_count": 20,
     "metadata": {},
     "output_type": "execute_result"
    }
   ],
   "source": [
    "fibonacci_generator(10)"
   ]
  },
  {
   "cell_type": "code",
   "execution_count": 51,
   "id": "7319f1b2",
   "metadata": {},
   "outputs": [],
   "source": [
    "def fibonachi_generator(num):\n",
    "    \n",
    "    first = 1\n",
    "    second = 1\n",
    "    \n",
    "    for i in range(num):\n",
    " \n",
    "        if ( i < 2 ):\n",
    "            num = first\n",
    "            yield num\n",
    "            \n",
    "        if ( i >= 2 ):\n",
    "            num = first + second\n",
    "            yield num\n",
    "            \n",
    "            first = second\n",
    "            second = num"
   ]
  },
  {
   "cell_type": "code",
   "execution_count": 47,
   "id": "37bf2275",
   "metadata": {},
   "outputs": [
    {
     "data": {
      "text/plain": [
       "[1, 1, 2, 3, 5, 8, 13, 21, 34, 55]"
      ]
     },
     "execution_count": 47,
     "metadata": {},
     "output_type": "execute_result"
    }
   ],
   "source": [
    "list(fibonachi_generator(10))"
   ]
  },
  {
   "cell_type": "code",
   "execution_count": 80,
   "id": "d2d9aa89",
   "metadata": {},
   "outputs": [],
   "source": [
    "gen = fibonachi_generator(10)"
   ]
  },
  {
   "cell_type": "code",
   "execution_count": 91,
   "id": "2f0534ec",
   "metadata": {},
   "outputs": [
    {
     "ename": "StopIteration",
     "evalue": "",
     "output_type": "error",
     "traceback": [
      "\u001b[1;31m---------------------------------------------------------------------------\u001b[0m",
      "\u001b[1;31mStopIteration\u001b[0m                             Traceback (most recent call last)",
      "\u001b[1;32m~\\AppData\\Local\\Temp\\ipykernel_14776\\2955553870.py\u001b[0m in \u001b[0;36m<module>\u001b[1;34m\u001b[0m\n\u001b[1;32m----> 1\u001b[1;33m \u001b[0mprint\u001b[0m\u001b[1;33m(\u001b[0m\u001b[0mnext\u001b[0m\u001b[1;33m(\u001b[0m\u001b[0mgen\u001b[0m\u001b[1;33m)\u001b[0m\u001b[1;33m)\u001b[0m\u001b[1;33m\u001b[0m\u001b[1;33m\u001b[0m\u001b[0m\n\u001b[0m",
      "\u001b[1;31mStopIteration\u001b[0m: "
     ]
    }
   ],
   "source": [
    "print(next(gen))"
   ]
  },
  {
   "cell_type": "code",
   "execution_count": 92,
   "id": "e87b1abd",
   "metadata": {},
   "outputs": [],
   "source": [
    "word = 'hola'\n",
    "word_iter = iter(word)"
   ]
  },
  {
   "cell_type": "code",
   "execution_count": 96,
   "id": "74b68736",
   "metadata": {},
   "outputs": [
    {
     "name": "stdout",
     "output_type": "stream",
     "text": [
      "a\n"
     ]
    }
   ],
   "source": [
    "print(next(word_iter))"
   ]
  },
  {
   "cell_type": "code",
   "execution_count": null,
   "id": "6051a918",
   "metadata": {},
   "outputs": [],
   "source": []
  }
 ],
 "metadata": {
  "kernelspec": {
   "display_name": "Python 3 (ipykernel)",
   "language": "python",
   "name": "python3"
  },
  "language_info": {
   "codemirror_mode": {
    "name": "ipython",
    "version": 3
   },
   "file_extension": ".py",
   "mimetype": "text/x-python",
   "name": "python",
   "nbconvert_exporter": "python",
   "pygments_lexer": "ipython3",
   "version": "3.9.13"
  }
 },
 "nbformat": 4,
 "nbformat_minor": 5
}
